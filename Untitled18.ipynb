{
  "nbformat": 4,
  "nbformat_minor": 0,
  "metadata": {
    "colab": {
      "provenance": []
    },
    "kernelspec": {
      "name": "python3",
      "display_name": "Python 3"
    },
    "language_info": {
      "name": "python"
    }
  },
  "cells": [
    {
      "cell_type": "code",
      "execution_count": null,
      "metadata": {
        "id": "mcXwBWGDhttX"
      },
      "outputs": [],
      "source": [
        "# ==========================\n",
        "# House Price Prediction\n",
        "# ==========================\n",
        "\n",
        "# Step 1: Import libraries\n",
        "import pandas as pd\n",
        "import numpy as np\n",
        "import matplotlib.pyplot as plt\n",
        "import seaborn as sns\n",
        "\n",
        "from sklearn.model_selection import train_test_split\n",
        "from sklearn.linear_model import LinearRegression\n",
        "from sklearn.metrics import mean_squared_error, r2_score\n",
        "\n",
        "# Step 2: Load dataset\n",
        "# Example dataset: you can replace 'house_prices.csv' with your file\n",
        "# or use a sample dataset from sklearn/datasets\n",
        "data = pd.read_csv(\"https://raw.githubusercontent.com/ageron/handson-ml/master/datasets/housing/housing.csv\")\n",
        "\n",
        "# Step 3: Explore data\n",
        "print(\"First 5 rows:\")\n",
        "print(data.head())\n",
        "\n",
        "print(\"\\nDataset Info:\")\n",
        "print(data.info())\n",
        "\n",
        "print(\"\\nMissing Values:\")\n",
        "print(data.isnull().sum())\n",
        "\n",
        "# Step 4: Handle missing values (fill with median)\n",
        "data = data.fillna(data.median(numeric_only=True))\n",
        "\n",
        "# Step 5: Select features (X) and target (y)\n",
        "X = data.drop(\"median_house_value\", axis=1)\n",
        "\n",
        "# Convert categorical column 'ocean_proximity' into numeric\n",
        "X = pd.get_dummies(X, drop_first=True)\n",
        "\n",
        "y = data[\"median_house_value\"]\n",
        "\n",
        "# Step 6: Train-test split\n",
        "X_train, X_test, y_train, y_test = train_test_split(X, y, test_size=0.2, random_state=42)\n",
        "\n",
        "# Step 7: Train model\n",
        "model = LinearRegression()\n",
        "model.fit(X_train, y_train)\n",
        "\n",
        "# Step 8: Predictions\n",
        "y_pred = model.predict(X_test)\n",
        "\n",
        "# Step 9: Model Evaluation\n",
        "mse = mean_squared_error(y_test, y_pred)\n",
        "rmse = np.sqrt(mse)\n",
        "r2 = r2_score(y_test, y_pred)\n",
        "\n",
        "print(\"\\nModel Performance:\")\n",
        "print(\"RMSE:\", rmse)\n",
        "print(\"R² Score:\", r2)\n",
        "\n",
        "# Step 10: Visualization (Actual vs Predicted)\n",
        "plt.figure(figsize=(8,6))\n",
        "plt.scatter(y_test, y_pred, alpha=0.5, color=\"blue\")\n",
        "plt.xlabel(\"Actual House Prices\")\n",
        "plt.ylabel(\"Predicted House Prices\")\n",
        "plt.title(\"Actual vs Predicted House Prices\")\n",
        "plt.show()"
      ]
    }
  ]
}